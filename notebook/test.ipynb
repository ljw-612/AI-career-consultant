{
 "cells": [
  {
   "cell_type": "code",
   "execution_count": 2,
   "metadata": {},
   "outputs": [],
   "source": [
    "import streamlit as st\n",
    "import pandas as pd\n",
    "import numpy as np\n",
    "\n",
    "import os\n",
    "\n",
    "# from script.inference import infer, load_model, get_id_label_pair, get_device\n",
    "\n",
    "def get_id_label_pair(data_path='../data/words_df.csv'):\n",
    "    worddf = pd.read_csv(data_path)\n",
    "    label2id = {k: v for v, k in enumerate(worddf.Tag.unique())}\n",
    "    id2label = {v: k for v, k in enumerate(worddf.Tag.unique())}\n",
    "    return label2id, id2label\n",
    "\n",
    "# model_name = \"Pot-l/bert-ner-skills\"    \n",
    "# tokenizer, model = load_model(model_name)\n"
   ]
  },
  {
   "cell_type": "code",
   "execution_count": 4,
   "metadata": {},
   "outputs": [],
   "source": [
    "label2id, id2label = get_id_label_pair(data_path='../data/words_df.csv')"
   ]
  },
  {
   "cell_type": "code",
   "execution_count": 6,
   "metadata": {},
   "outputs": [
    {
     "data": {
      "text/plain": [
       "{0: 'O', 1: 'B-Skill', 2: 'I-Skill'}"
      ]
     },
     "execution_count": 6,
     "metadata": {},
     "output_type": "execute_result"
    }
   ],
   "source": [
    "id2label"
   ]
  },
  {
   "cell_type": "code",
   "execution_count": null,
   "metadata": {},
   "outputs": [],
   "source": []
  }
 ],
 "metadata": {
  "kernelspec": {
   "display_name": "pytorch_m1",
   "language": "python",
   "name": "python3"
  },
  "language_info": {
   "codemirror_mode": {
    "name": "ipython",
    "version": 3
   },
   "file_extension": ".py",
   "mimetype": "text/x-python",
   "name": "python",
   "nbconvert_exporter": "python",
   "pygments_lexer": "ipython3",
   "version": "3.8.13"
  }
 },
 "nbformat": 4,
 "nbformat_minor": 2
}
