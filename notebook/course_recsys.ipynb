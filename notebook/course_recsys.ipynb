{
 "cells": [
  {
   "cell_type": "code",
   "execution_count": 46,
   "metadata": {},
   "outputs": [],
   "source": [
    "import numpy as np\n",
    "import pandas as pd\n"
   ]
  },
  {
   "cell_type": "code",
   "execution_count": 63,
   "metadata": {},
   "outputs": [
    {
     "data": {
      "text/html": [
       "<div>\n",
       "<style scoped>\n",
       "    .dataframe tbody tr th:only-of-type {\n",
       "        vertical-align: middle;\n",
       "    }\n",
       "\n",
       "    .dataframe tbody tr th {\n",
       "        vertical-align: top;\n",
       "    }\n",
       "\n",
       "    .dataframe thead th {\n",
       "        text-align: right;\n",
       "    }\n",
       "</style>\n",
       "<table border=\"1\" class=\"dataframe\">\n",
       "  <thead>\n",
       "    <tr style=\"text-align: right;\">\n",
       "      <th></th>\n",
       "      <th>course_title</th>\n",
       "      <th>course_organization</th>\n",
       "      <th>course_certificate_type</th>\n",
       "      <th>course_time</th>\n",
       "      <th>course_rating</th>\n",
       "      <th>course_reviews_num</th>\n",
       "      <th>course_difficulty</th>\n",
       "      <th>course_url</th>\n",
       "      <th>course_skills</th>\n",
       "      <th>course_description</th>\n",
       "    </tr>\n",
       "  </thead>\n",
       "  <tbody>\n",
       "    <tr>\n",
       "      <th>0</th>\n",
       "      <td>(ISC)² Systems Security Certified Practitioner...</td>\n",
       "      <td>ISC2</td>\n",
       "      <td>Specialization</td>\n",
       "      <td>3 - 6 Months</td>\n",
       "      <td>4.7</td>\n",
       "      <td>492</td>\n",
       "      <td>Beginner</td>\n",
       "      <td>https://www.coursera.org/specializations/sscp-...</td>\n",
       "      <td>Risk Management, Access Control, Asset, Incide...</td>\n",
       "      <td>Pursue better IT security job opportunities an...</td>\n",
       "    </tr>\n",
       "    <tr>\n",
       "      <th>1</th>\n",
       "      <td>.NET FullStack Developer</td>\n",
       "      <td>Board Infinity</td>\n",
       "      <td>Specialization</td>\n",
       "      <td>1 - 3 Months</td>\n",
       "      <td>4.3</td>\n",
       "      <td>51</td>\n",
       "      <td>Intermediate</td>\n",
       "      <td>https://www.coursera.org/specializations/dot-n...</td>\n",
       "      <td>Web API, Web Development, Cascading Style Shee...</td>\n",
       "      <td>Develop the proficiency required to design and...</td>\n",
       "    </tr>\n",
       "    <tr>\n",
       "      <th>2</th>\n",
       "      <td>A Crash Course in Causality:  Inferring Causal...</td>\n",
       "      <td>University of Pennsylvania</td>\n",
       "      <td>Course</td>\n",
       "      <td>1 - 3 Months</td>\n",
       "      <td>4.7</td>\n",
       "      <td>517</td>\n",
       "      <td>Intermediate</td>\n",
       "      <td>https://www.coursera.org/learn/crash-course-in...</td>\n",
       "      <td>Instrumental Variable, Propensity Score Matchi...</td>\n",
       "      <td>We have all heard the phrase “correlation does...</td>\n",
       "    </tr>\n",
       "    <tr>\n",
       "      <th>3</th>\n",
       "      <td>A life with ADHD</td>\n",
       "      <td>University of Geneva</td>\n",
       "      <td>Course</td>\n",
       "      <td>1 - 3 Months</td>\n",
       "      <td>NaN</td>\n",
       "      <td>NaN</td>\n",
       "      <td>Beginner</td>\n",
       "      <td>https://www.coursera.org/learn/life-with-adhd</td>\n",
       "      <td>differential diagnosis and comorbidities, symp...</td>\n",
       "      <td>What is ADHD and what are the challenges that ...</td>\n",
       "    </tr>\n",
       "    <tr>\n",
       "      <th>4</th>\n",
       "      <td>AI For Business</td>\n",
       "      <td>University of Pennsylvania</td>\n",
       "      <td>Specialization</td>\n",
       "      <td>3 - 6 Months</td>\n",
       "      <td>4.7</td>\n",
       "      <td>381</td>\n",
       "      <td>Beginner</td>\n",
       "      <td>https://www.coursera.org/specializations/ai-fo...</td>\n",
       "      <td>Artificial Intelligence (AI), Machine Learning...</td>\n",
       "      <td>This specialization will provide learners with...</td>\n",
       "    </tr>\n",
       "  </tbody>\n",
       "</table>\n",
       "</div>"
      ],
      "text/plain": [
       "                                        course_title  \\\n",
       "0  (ISC)² Systems Security Certified Practitioner...   \n",
       "1                           .NET FullStack Developer   \n",
       "2  A Crash Course in Causality:  Inferring Causal...   \n",
       "3                                   A life with ADHD   \n",
       "4                                    AI For Business   \n",
       "\n",
       "          course_organization course_certificate_type   course_time  \\\n",
       "0                        ISC2          Specialization  3 - 6 Months   \n",
       "1              Board Infinity          Specialization  1 - 3 Months   \n",
       "2  University of Pennsylvania                  Course  1 - 3 Months   \n",
       "3        University of Geneva                  Course  1 - 3 Months   \n",
       "4  University of Pennsylvania          Specialization  3 - 6 Months   \n",
       "\n",
       "   course_rating course_reviews_num course_difficulty  \\\n",
       "0            4.7                492          Beginner   \n",
       "1            4.3                 51      Intermediate   \n",
       "2            4.7                517      Intermediate   \n",
       "3            NaN                NaN          Beginner   \n",
       "4            4.7                381          Beginner   \n",
       "\n",
       "                                          course_url  \\\n",
       "0  https://www.coursera.org/specializations/sscp-...   \n",
       "1  https://www.coursera.org/specializations/dot-n...   \n",
       "2  https://www.coursera.org/learn/crash-course-in...   \n",
       "3      https://www.coursera.org/learn/life-with-adhd   \n",
       "4  https://www.coursera.org/specializations/ai-fo...   \n",
       "\n",
       "                                       course_skills  \\\n",
       "0  Risk Management, Access Control, Asset, Incide...   \n",
       "1  Web API, Web Development, Cascading Style Shee...   \n",
       "2  Instrumental Variable, Propensity Score Matchi...   \n",
       "3  differential diagnosis and comorbidities, symp...   \n",
       "4  Artificial Intelligence (AI), Machine Learning...   \n",
       "\n",
       "                                  course_description  \n",
       "0  Pursue better IT security job opportunities an...  \n",
       "1  Develop the proficiency required to design and...  \n",
       "2  We have all heard the phrase “correlation does...  \n",
       "3  What is ADHD and what are the challenges that ...  \n",
       "4  This specialization will provide learners with...  "
      ]
     },
     "execution_count": 63,
     "metadata": {},
     "output_type": "execute_result"
    }
   ],
   "source": [
    "coursera = pd.read_csv('../data/coursera_courses.csv')\n",
    "# drop rows where course_skills = []\n",
    "coursera = coursera[coursera['course_skills'] != '[]']\n",
    "coursera = coursera.reset_index(drop=True)\n",
    "\n",
    "import ast\n",
    "\n",
    "coursera['course_skills'] = coursera['course_skills'].apply(ast.literal_eval)\n",
    "coursera['course_skills'] = coursera['course_skills'].str.join(', ')\n",
    "coursera = coursera.drop(columns=['course_students_enrolled', 'course_summary'])\n",
    "coursera.head()"
   ]
  },
  {
   "cell_type": "code",
   "execution_count": 66,
   "metadata": {},
   "outputs": [],
   "source": [
    "from dotenv import load_dotenv\n",
    "\n",
    "from openai import OpenAI\n",
    "import os\n",
    "\n",
    "load_dotenv(override=True)\n",
    "    \n",
    "openai_key = os.getenv(\"OPENAI_KEY\")\n",
    "\n",
    "client = OpenAI(api_key=openai_key)\n",
    "\n",
    "def make_embeddings(client, text, model=\"text-embedding-3-small\"):\n",
    "    \n",
    "    return client.embeddings.create(input = [text], model=model).data[0].embedding\n",
    "\n",
    "coursera['course_skills_embeddings'] = coursera['course_skills'].apply(lambda x: make_embeddings(client, x))"
   ]
  },
  {
   "cell_type": "code",
   "execution_count": 67,
   "metadata": {},
   "outputs": [],
   "source": [
    "coursera.to_csv('../data/coursera_courses_embeddings.csv', index=False)\n",
    "coursera = pd.read_csv('../data/coursera_courses_embeddings.csv')\n",
    "coursera.head()\n",
    "\n",
    "coursera['course_skills_embeddings'] = coursera['course_skills_embeddings'].apply(ast.literal_eval)"
   ]
  },
  {
   "cell_type": "code",
   "execution_count": 79,
   "metadata": {},
   "outputs": [
    {
     "data": {
      "text/html": [
       "<div>\n",
       "<style scoped>\n",
       "    .dataframe tbody tr th:only-of-type {\n",
       "        vertical-align: middle;\n",
       "    }\n",
       "\n",
       "    .dataframe tbody tr th {\n",
       "        vertical-align: top;\n",
       "    }\n",
       "\n",
       "    .dataframe thead th {\n",
       "        text-align: right;\n",
       "    }\n",
       "</style>\n",
       "<table border=\"1\" class=\"dataframe\">\n",
       "  <thead>\n",
       "    <tr style=\"text-align: right;\">\n",
       "      <th></th>\n",
       "      <th>course_title</th>\n",
       "      <th>course_organization</th>\n",
       "      <th>course_certificate_type</th>\n",
       "      <th>course_time</th>\n",
       "      <th>course_rating</th>\n",
       "      <th>course_reviews_num</th>\n",
       "      <th>course_difficulty</th>\n",
       "      <th>course_url</th>\n",
       "      <th>course_skills</th>\n",
       "      <th>course_description</th>\n",
       "      <th>course_skills_embeddings</th>\n",
       "    </tr>\n",
       "  </thead>\n",
       "  <tbody>\n",
       "    <tr>\n",
       "      <th>0</th>\n",
       "      <td>(ISC)² Systems Security Certified Practitioner...</td>\n",
       "      <td>ISC2</td>\n",
       "      <td>Specialization</td>\n",
       "      <td>3 - 6 Months</td>\n",
       "      <td>4.7</td>\n",
       "      <td>492</td>\n",
       "      <td>Beginner</td>\n",
       "      <td>https://www.coursera.org/specializations/sscp-...</td>\n",
       "      <td>Risk Management, Access Control, Asset, Incide...</td>\n",
       "      <td>Pursue better IT security job opportunities an...</td>\n",
       "      <td>[0.009270939975976944, 0.028746716678142548, 0...</td>\n",
       "    </tr>\n",
       "    <tr>\n",
       "      <th>1</th>\n",
       "      <td>.NET FullStack Developer</td>\n",
       "      <td>Board Infinity</td>\n",
       "      <td>Specialization</td>\n",
       "      <td>1 - 3 Months</td>\n",
       "      <td>4.3</td>\n",
       "      <td>51</td>\n",
       "      <td>Intermediate</td>\n",
       "      <td>https://www.coursera.org/specializations/dot-n...</td>\n",
       "      <td>Web API, Web Development, Cascading Style Shee...</td>\n",
       "      <td>Develop the proficiency required to design and...</td>\n",
       "      <td>[-0.05880910903215408, -0.0014066009316593409,...</td>\n",
       "    </tr>\n",
       "    <tr>\n",
       "      <th>2</th>\n",
       "      <td>A Crash Course in Causality:  Inferring Causal...</td>\n",
       "      <td>University of Pennsylvania</td>\n",
       "      <td>Course</td>\n",
       "      <td>1 - 3 Months</td>\n",
       "      <td>4.7</td>\n",
       "      <td>517</td>\n",
       "      <td>Intermediate</td>\n",
       "      <td>https://www.coursera.org/learn/crash-course-in...</td>\n",
       "      <td>Instrumental Variable, Propensity Score Matchi...</td>\n",
       "      <td>We have all heard the phrase “correlation does...</td>\n",
       "      <td>[-0.006142226047813892, 0.024427974596619606, ...</td>\n",
       "    </tr>\n",
       "    <tr>\n",
       "      <th>3</th>\n",
       "      <td>AI For Business</td>\n",
       "      <td>University of Pennsylvania</td>\n",
       "      <td>Specialization</td>\n",
       "      <td>3 - 6 Months</td>\n",
       "      <td>4.7</td>\n",
       "      <td>381</td>\n",
       "      <td>Beginner</td>\n",
       "      <td>https://www.coursera.org/specializations/ai-fo...</td>\n",
       "      <td>Artificial Intelligence (AI), Machine Learning...</td>\n",
       "      <td>This specialization will provide learners with...</td>\n",
       "      <td>[-0.030125897377729416, 0.009498830884695053, ...</td>\n",
       "    </tr>\n",
       "    <tr>\n",
       "      <th>4</th>\n",
       "      <td>AI For Everyone</td>\n",
       "      <td>DeepLearning.AI</td>\n",
       "      <td>Course</td>\n",
       "      <td>1 - 4 Weeks</td>\n",
       "      <td>4.8</td>\n",
       "      <td>39.3k</td>\n",
       "      <td>Beginner</td>\n",
       "      <td>https://www.coursera.org/learn/ai-for-everyone</td>\n",
       "      <td>Workflow of Machine Learning projects, AI term...</td>\n",
       "      <td>AI is not only for engineers. If you want your...</td>\n",
       "      <td>[0.0029956104699522257, 0.029252810403704643, ...</td>\n",
       "    </tr>\n",
       "  </tbody>\n",
       "</table>\n",
       "</div>"
      ],
      "text/plain": [
       "                                        course_title  \\\n",
       "0  (ISC)² Systems Security Certified Practitioner...   \n",
       "1                           .NET FullStack Developer   \n",
       "2  A Crash Course in Causality:  Inferring Causal...   \n",
       "3                                    AI For Business   \n",
       "4                                    AI For Everyone   \n",
       "\n",
       "          course_organization course_certificate_type   course_time  \\\n",
       "0                        ISC2          Specialization  3 - 6 Months   \n",
       "1              Board Infinity          Specialization  1 - 3 Months   \n",
       "2  University of Pennsylvania                  Course  1 - 3 Months   \n",
       "3  University of Pennsylvania          Specialization  3 - 6 Months   \n",
       "4             DeepLearning.AI                  Course   1 - 4 Weeks   \n",
       "\n",
       "  course_rating course_reviews_num course_difficulty  \\\n",
       "0           4.7                492          Beginner   \n",
       "1           4.3                 51      Intermediate   \n",
       "2           4.7                517      Intermediate   \n",
       "3           4.7                381          Beginner   \n",
       "4           4.8              39.3k          Beginner   \n",
       "\n",
       "                                          course_url  \\\n",
       "0  https://www.coursera.org/specializations/sscp-...   \n",
       "1  https://www.coursera.org/specializations/dot-n...   \n",
       "2  https://www.coursera.org/learn/crash-course-in...   \n",
       "3  https://www.coursera.org/specializations/ai-fo...   \n",
       "4     https://www.coursera.org/learn/ai-for-everyone   \n",
       "\n",
       "                                       course_skills  \\\n",
       "0  Risk Management, Access Control, Asset, Incide...   \n",
       "1  Web API, Web Development, Cascading Style Shee...   \n",
       "2  Instrumental Variable, Propensity Score Matchi...   \n",
       "3  Artificial Intelligence (AI), Machine Learning...   \n",
       "4  Workflow of Machine Learning projects, AI term...   \n",
       "\n",
       "                                  course_description  \\\n",
       "0  Pursue better IT security job opportunities an...   \n",
       "1  Develop the proficiency required to design and...   \n",
       "2  We have all heard the phrase “correlation does...   \n",
       "3  This specialization will provide learners with...   \n",
       "4  AI is not only for engineers. If you want your...   \n",
       "\n",
       "                            course_skills_embeddings  \n",
       "0  [0.009270939975976944, 0.028746716678142548, 0...  \n",
       "1  [-0.05880910903215408, -0.0014066009316593409,...  \n",
       "2  [-0.006142226047813892, 0.024427974596619606, ...  \n",
       "3  [-0.030125897377729416, 0.009498830884695053, ...  \n",
       "4  [0.0029956104699522257, 0.029252810403704643, ...  "
      ]
     },
     "execution_count": 79,
     "metadata": {},
     "output_type": "execute_result"
    }
   ],
   "source": [
    "coursera = coursera.dropna()\n",
    "coursera = coursera.reset_index(drop=True)\n",
    "coursera['course_rating'] = coursera['course_rating'].astype(str)\n",
    "coursera.head()"
   ]
  },
  {
   "cell_type": "code",
   "execution_count": 94,
   "metadata": {},
   "outputs": [
    {
     "name": "stderr",
     "output_type": "stream",
     "text": [
      "  6%|▌         | 1/17 [00:02<00:36,  2.26s/it]"
     ]
    },
    {
     "name": "stdout",
     "output_type": "stream",
     "text": [
      "Uploaded batch 1 to 50 to Pinecone\n"
     ]
    },
    {
     "name": "stderr",
     "output_type": "stream",
     "text": [
      " 12%|█▏        | 2/17 [00:04<00:29,  1.98s/it]"
     ]
    },
    {
     "name": "stdout",
     "output_type": "stream",
     "text": [
      "Uploaded batch 51 to 100 to Pinecone\n"
     ]
    },
    {
     "name": "stderr",
     "output_type": "stream",
     "text": [
      " 18%|█▊        | 3/17 [00:05<00:25,  1.80s/it]"
     ]
    },
    {
     "name": "stdout",
     "output_type": "stream",
     "text": [
      "Uploaded batch 101 to 150 to Pinecone\n"
     ]
    },
    {
     "name": "stderr",
     "output_type": "stream",
     "text": [
      " 24%|██▎       | 4/17 [00:07<00:23,  1.79s/it]"
     ]
    },
    {
     "name": "stdout",
     "output_type": "stream",
     "text": [
      "Uploaded batch 151 to 200 to Pinecone\n"
     ]
    },
    {
     "name": "stderr",
     "output_type": "stream",
     "text": [
      " 29%|██▉       | 5/17 [00:09<00:20,  1.73s/it]"
     ]
    },
    {
     "name": "stdout",
     "output_type": "stream",
     "text": [
      "Uploaded batch 201 to 250 to Pinecone\n"
     ]
    },
    {
     "name": "stderr",
     "output_type": "stream",
     "text": [
      " 35%|███▌      | 6/17 [00:10<00:18,  1.69s/it]"
     ]
    },
    {
     "name": "stdout",
     "output_type": "stream",
     "text": [
      "Uploaded batch 251 to 300 to Pinecone\n"
     ]
    },
    {
     "name": "stderr",
     "output_type": "stream",
     "text": [
      " 41%|████      | 7/17 [00:12<00:16,  1.70s/it]"
     ]
    },
    {
     "name": "stdout",
     "output_type": "stream",
     "text": [
      "Uploaded batch 301 to 350 to Pinecone\n"
     ]
    },
    {
     "name": "stderr",
     "output_type": "stream",
     "text": [
      " 47%|████▋     | 8/17 [00:13<00:14,  1.66s/it]"
     ]
    },
    {
     "name": "stdout",
     "output_type": "stream",
     "text": [
      "Uploaded batch 351 to 400 to Pinecone\n"
     ]
    },
    {
     "name": "stderr",
     "output_type": "stream",
     "text": [
      " 53%|█████▎    | 9/17 [00:15<00:13,  1.64s/it]"
     ]
    },
    {
     "name": "stdout",
     "output_type": "stream",
     "text": [
      "Uploaded batch 401 to 450 to Pinecone\n"
     ]
    },
    {
     "name": "stderr",
     "output_type": "stream",
     "text": [
      " 59%|█████▉    | 10/17 [00:17<00:11,  1.68s/it]"
     ]
    },
    {
     "name": "stdout",
     "output_type": "stream",
     "text": [
      "Uploaded batch 451 to 500 to Pinecone\n"
     ]
    },
    {
     "name": "stderr",
     "output_type": "stream",
     "text": [
      " 65%|██████▍   | 11/17 [00:18<00:09,  1.62s/it]"
     ]
    },
    {
     "name": "stdout",
     "output_type": "stream",
     "text": [
      "Uploaded batch 501 to 550 to Pinecone\n"
     ]
    },
    {
     "name": "stderr",
     "output_type": "stream",
     "text": [
      " 71%|███████   | 12/17 [00:20<00:08,  1.64s/it]"
     ]
    },
    {
     "name": "stdout",
     "output_type": "stream",
     "text": [
      "Uploaded batch 551 to 600 to Pinecone\n"
     ]
    },
    {
     "name": "stderr",
     "output_type": "stream",
     "text": [
      " 76%|███████▋  | 13/17 [00:21<00:06,  1.60s/it]"
     ]
    },
    {
     "name": "stdout",
     "output_type": "stream",
     "text": [
      "Uploaded batch 601 to 650 to Pinecone\n"
     ]
    },
    {
     "name": "stderr",
     "output_type": "stream",
     "text": [
      " 82%|████████▏ | 14/17 [00:23<00:04,  1.59s/it]"
     ]
    },
    {
     "name": "stdout",
     "output_type": "stream",
     "text": [
      "Uploaded batch 651 to 700 to Pinecone\n"
     ]
    },
    {
     "name": "stderr",
     "output_type": "stream",
     "text": [
      " 88%|████████▊ | 15/17 [00:25<00:03,  1.57s/it]"
     ]
    },
    {
     "name": "stdout",
     "output_type": "stream",
     "text": [
      "Uploaded batch 701 to 750 to Pinecone\n"
     ]
    },
    {
     "name": "stderr",
     "output_type": "stream",
     "text": [
      " 94%|█████████▍| 16/17 [00:26<00:01,  1.57s/it]"
     ]
    },
    {
     "name": "stdout",
     "output_type": "stream",
     "text": [
      "Uploaded batch 751 to 800 to Pinecone\n"
     ]
    },
    {
     "name": "stderr",
     "output_type": "stream",
     "text": [
      "100%|██████████| 17/17 [00:27<00:00,  1.60s/it]"
     ]
    },
    {
     "name": "stdout",
     "output_type": "stream",
     "text": [
      "Uploaded batch 801 to 850 to Pinecone\n"
     ]
    },
    {
     "name": "stderr",
     "output_type": "stream",
     "text": [
      "\n"
     ]
    }
   ],
   "source": [
    "from pinecone import Pinecone, ServerlessSpec\n",
    "import os\n",
    "from tqdm import tqdm\n",
    "\n",
    "def upload_to_db(data):\n",
    "    # pc = Pinecone(api_key=os.getenv(\"PINECONE_API_KEY\"))\n",
    "    pc = Pinecone(api_key=\"41c0115a-1aae-400c-9347-52d2176e03ff\")\n",
    "    index = pc.Index(\"coursera\")\n",
    "    \n",
    "    batch_size = 50\n",
    "    \n",
    "    test = []\n",
    "    \n",
    "    for i in tqdm(range(0, len(data), batch_size)):\n",
    "        vectors = []\n",
    "        batch = data.iloc[i:i+batch_size]\n",
    "        for idx in range(len(batch)):\n",
    "            vector = {}; metadata = {}\n",
    "            vector[\"id\"] = str(idx+i)\n",
    "            vector[\"values\"] = batch.iloc[idx]['course_skills_embeddings']\n",
    "\n",
    "            metadata[\"course_name\"] = batch.iloc[idx]['course_title']; test.append(batch.iloc[idx]['course_title'])\n",
    "            metadata[\"course_organization\"] = batch.iloc[idx]['course_organization']\n",
    "            metadata[\"course_Certificate_type\"] = batch.iloc[idx]['course_certificate_type']\n",
    "            metadata[\"course_rating\"] = batch.iloc[idx]['course_rating']\n",
    "            metadata[\"course_difficulty\"] = batch.iloc[idx]['course_difficulty']\n",
    "            metadata[\"course_URL\"] = batch.iloc[idx]['course_url']\n",
    "            metadata[\"course_skills\"] = batch.iloc[idx]['course_skills']\n",
    "            metadata[\"course_time\"] = batch.iloc[idx]['course_time']\n",
    "\n",
    "            vector[\"metadata\"] = metadata\n",
    "            vectors.append(vector)\n",
    "        \n",
    "        index.upsert(vectors=vectors)\n",
    "        print(f\"Uploaded batch {i+1} to {i+batch_size} to Pinecone\")\n",
    "\n",
    "    return test\n",
    "\n",
    "test = upload_to_db(coursera)"
   ]
  },
  {
   "cell_type": "code",
   "execution_count": 98,
   "metadata": {},
   "outputs": [],
   "source": [
    "list_r = ['painting', 'drawing', 'singing']\n",
    "list_j = ['data', 'ai', 'data', 'data science', 'data scraping', 'data', 'database', 'data scraping', 'software', 'data analytics', 'python', 'database querying', 'mysql']\n"
   ]
  },
  {
   "cell_type": "code",
   "execution_count": 99,
   "metadata": {},
   "outputs": [],
   "source": [
    "missing_skill_embeddings = make_embeddings(client, ', '.join(list_r))\n",
    "\n",
    "pc = Pinecone(api_key=\"41c0115a-1aae-400c-9347-52d2176e03ff\")\n",
    "index = pc.Index(\"coursera\")\n",
    "    \n",
    "result = index.query(\n",
    "    vector=missing_skill_embeddings,\n",
    "    top_k=5,\n",
    "    include_values=False,\n",
    "    include_metadata=True\n",
    ")"
   ]
  },
  {
   "cell_type": "code",
   "execution_count": 105,
   "metadata": {},
   "outputs": [
    {
     "data": {
      "text/plain": [
       "[{'id': '378',\n",
       "  'metadata': {'course_Certificate_type': 'Course',\n",
       "               'course_URL': 'https://www.coursera.org/learn/healing-with-the-arts',\n",
       "               'course_difficulty': 'Mixed',\n",
       "               'course_name': 'Healing with the Arts',\n",
       "               'course_organization': 'University of Florida',\n",
       "               'course_rating': '4.5',\n",
       "               'course_skills': 'Music, Art, Meditation, Visual Arts',\n",
       "               'course_time': '1 - 3 Months'},\n",
       "  'score': 0.55827,\n",
       "  'values': []},\n",
       " {'id': '775',\n",
       "  'metadata': {'course_Certificate_type': 'Specialization',\n",
       "               'course_URL': 'https://www.coursera.org/specializations/singer-songwriter',\n",
       "               'course_difficulty': 'Beginner',\n",
       "               'course_name': 'The Singer Songwriter',\n",
       "               'course_organization': 'Berklee',\n",
       "               'course_rating': '4.8',\n",
       "               'course_skills': 'Music production, Ableton, Singing, '\n",
       "                                'Songwriting, Guitar',\n",
       "               'course_time': '3 - 6 Months'},\n",
       "  'score': 0.532935143,\n",
       "  'values': []},\n",
       " {'id': '594',\n",
       "  'metadata': {'course_Certificate_type': 'Specialization',\n",
       "               'course_URL': 'https://www.coursera.org/specializations/music-education',\n",
       "               'course_difficulty': 'Intermediate',\n",
       "               'course_name': 'Music Education for Teachers',\n",
       "               'course_organization': 'Berklee',\n",
       "               'course_rating': '4.8',\n",
       "               'course_skills': 'Music, Music production, Improvisation, '\n",
       "                                'Songwriting, Music Education',\n",
       "               'course_time': '3 - 6 Months'},\n",
       "  'score': 0.497091502,\n",
       "  'values': []},\n",
       " {'id': '420',\n",
       "  'metadata': {'course_Certificate_type': 'Course',\n",
       "               'course_URL': 'https://www.coursera.org/learn/painting',\n",
       "               'course_difficulty': 'Beginner',\n",
       "               'course_name': 'In the Studio: Postwar Abstract Painting',\n",
       "               'course_organization': 'The Museum of Modern Art',\n",
       "               'course_rating': '4.9',\n",
       "               'course_skills': 'Art History, Art, History, Color Theory',\n",
       "               'course_time': '1 - 3 Months'},\n",
       "  'score': 0.468749344,\n",
       "  'values': []},\n",
       " {'id': '727',\n",
       "  'metadata': {'course_Certificate_type': 'Specialization',\n",
       "               'course_URL': 'https://www.coursera.org/specializations/songwriting',\n",
       "               'course_difficulty': 'Beginner',\n",
       "               'course_name': 'Songwriting: Writing, Arranging, and Producing '\n",
       "                              'Music',\n",
       "               'course_organization': 'Berklee',\n",
       "               'course_rating': '4.8',\n",
       "               'course_skills': 'Music, arranging, Producing, Songwriting',\n",
       "               'course_time': '3 - 6 Months'},\n",
       "  'score': 0.447151244,\n",
       "  'values': []}]"
      ]
     },
     "execution_count": 105,
     "metadata": {},
     "output_type": "execute_result"
    }
   ],
   "source": [
    "# pd.DataFrame(result['matches'][0])\n",
    "result['matches']"
   ]
  },
  {
   "cell_type": "code",
   "execution_count": null,
   "metadata": {},
   "outputs": [],
   "source": []
  }
 ],
 "metadata": {
  "kernelspec": {
   "display_name": "pytorch_m1",
   "language": "python",
   "name": "python3"
  },
  "language_info": {
   "codemirror_mode": {
    "name": "ipython",
    "version": 3
   },
   "file_extension": ".py",
   "mimetype": "text/x-python",
   "name": "python",
   "nbconvert_exporter": "python",
   "pygments_lexer": "ipython3",
   "version": "3.8.13"
  }
 },
 "nbformat": 4,
 "nbformat_minor": 2
}
